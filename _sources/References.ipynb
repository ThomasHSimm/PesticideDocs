{
 "cells": [
  {
   "cell_type": "markdown",
   "id": "acfda700",
   "metadata": {},
   "source": [
    "# Pesticide - Resources\n",
    "\n",
    "Some website references about Pesticide in food in the UK.\n",
    "\n",
    "See also Pesticide Presentation for some summary presentations.\n"
   ]
  },
  {
   "cell_type": "markdown",
   "id": "f04861cc",
   "metadata": {},
   "source": [
    "## [Pesticide Action Network UK](https://www.pan-uk.org/pesticides-agriculture-uk/)\n",
    "\n",
    "> The truth about pesticide use in the UK\n",
    ">\n",
    "> Claims that pesticide use in the UK is reducing are often put forward by those in the pro-pesticide camp in order to argue that there is no need for stricter regulation. But does this claim really hold up under close scrutiny?\n",
    ">\n",
    ">The claims made about pesticide use halving since 1990 are based solely on the weight of pesticides being used – and in that sense they are correct. However, PAN UK has analysed the official UK data on pesticide use and we have found that, in many cases, and by most internationally accepted measures, pesticide use is rising as is our exposure to their harmful impacts.\n",
    ">\n",
    ">Since 1990, the exposure of the UK public and environment to pesticides has increased in the following ways:\n",
    ">\n",
    "> 1. The toxicity of pesticides has increased over time so that less chemical is required to do the same job. As an example some neonicotinoid insecticides are 10,000 times more toxic than the most notorious insecticide in history, DDT.\n",
    "> 2. The area of land being treated with pesticides has risen.\n",
    "> 3. The number of times crops are treated with pesticides has gone up.\n",
    ">\n",
    "> And all the while pesticides are having serious harmful effects on our environment – farmland bird species continue to decline, bees and pollinators are being poisoned, our water is being contaminated and pesticide residues are present in the food we eat.\n",
    ">\n",
    "> Weight is a meaningless metric for measuring the use of pesticides as our research clearly shows. PAN UK is calling for a more robust system of monitoring pesticide use coupled with a quantitative target for the reduction of pesticide use throughout the UK.\n",
    "\n",
    "https://twitter.com/PAN_UK"
   ]
  },
  {
   "cell_type": "markdown",
   "id": "fe60bf52",
   "metadata": {},
   "source": [
    "## [Food Standards Agency: pesticides in food](https://www.food.gov.uk/business-guidance/pesticides-in-food)\n",
    "\n",
    "> Pesticides in food\n",
    ">\n",
    "> Pesticides are chemical or biological substances that are used to kill or control pests during the cultivation and storage of crops. We have oversight of pesticides and food safety in England, Wales and Northern Ireland\n",
    "\n",
    "## [Health and Safety Executive: Maximum residue levels (MRLs) and import tolerances](https://www.hse.gov.uk/pesticides/mrls/index.htm)\n",
    "\n",
    "> A maximum residue level (MRL) is the maximum concentration of a pesticide residue in or on food or feed of plant and animal origin that is legally tolerated when a plant protection product (PPP) is applied correctly (following good agricultural practice).\n",
    ">\n",
    "> MRLs apply to most food commodities, although they are not currently applied to fish and produce grown exclusively for animal feed. They are not set specifically for processed commodities. Instead the MRLs for the raw agricultural commodities apply, with processing factors applied to determine the compliance  of processed goods.\n",
    ">\n",
    "> An import tolerance is an MRL set on imported food or feed to meet the needs of international trade.\n",
    "\n",
    "## [Guardian UK newspaper: At least two pesticides in half of bread sold in UK, data shows](https://www.theguardian.com/food/2022/nov/02/at-least-two-pesticides-in-half-of-bread-sold-uk-data-shows)\n",
    "\n",
    "> Half of bread sold in the UK contains at least two different pesticides, government data has revealed.\n",
    ">\n",
    "> According to analysis by Pesticide Action Network UK (PAN), this is a rise of 50% from last year, and a major increase over the past decade when, on average, roughly 25% of bread has been found to contain pesticide cocktails.\n",
    ">\n",
    "> PAN is calling on the environment secretary, Thérèse Coffey, to “take urgent action to reduce pesticide-related harms”."
   ]
  }
 ],
 "metadata": {
  "kernelspec": {
   "display_name": "Python 3 (ipykernel)",
   "language": "python",
   "name": "python3"
  },
  "language_info": {
   "codemirror_mode": {
    "name": "ipython",
    "version": 3
   },
   "file_extension": ".py",
   "mimetype": "text/x-python",
   "name": "python",
   "nbconvert_exporter": "python",
   "pygments_lexer": "ipython3",
   "version": "3.8.8"
  }
 },
 "nbformat": 4,
 "nbformat_minor": 5
}
