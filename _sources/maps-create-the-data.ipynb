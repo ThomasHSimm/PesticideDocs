{
 "cells": [
  {
   "cell_type": "markdown",
   "id": "e220dbef",
   "metadata": {},
   "source": [
    "# Create the maps data\n"
   ]
  },
  {
   "cell_type": "code",
   "execution_count": 1,
   "id": "da24f1fb",
   "metadata": {
    "tags": [
     "remove-cell"
    ]
   },
   "outputs": [],
   "source": [
    "import sys\n",
    "MAIN_PATH = \"C:\\\\Users\\\\44781\\\\Documents\\\\GitHub\\\\Pesticide\"\n",
    "sys.path.append(MAIN_PATH)"
   ]
  },
  {
   "cell_type": "code",
   "execution_count": 2,
   "id": "a31ea5a2",
   "metadata": {},
   "outputs": [
    {
     "name": "stdout",
     "output_type": "stream",
     "text": [
      ".\\_data\\England1 postcodes.csv\n",
      ".\\_data\\England2 postcodes.csv\n",
      ".\\_data\\Wales postcodes.csv\n",
      ".\\_data\\NRScotland-SmallUser.csv\n",
      ".\\_data\\BT postcodes.csv\n"
     ]
    },
    {
     "name": "stderr",
     "output_type": "stream",
     "text": [
      "c:\\users\\44781\\anaconda3\\envs\\ons-env\\lib\\site-packages\\pandas\\core\\internals\\blocks.py:2323: RuntimeWarning: invalid value encountered in cast\n",
      "  values = values.astype(str)\n"
     ]
    }
   ],
   "source": [
    "import src.utils.create_map_utils as cmu\n",
    "import os\n",
    "\n",
    "cmu.main(save_dir = os.path.join(MAIN_PATH, 'src', 'utils', 'map_data'))"
   ]
  }
 ],
 "metadata": {
  "celltoolbar": "Tags",
  "kernelspec": {
   "display_name": "Python 3 (ipykernel)",
   "language": "python",
   "name": "python3"
  },
  "language_info": {
   "codemirror_mode": {
    "name": "ipython",
    "version": 3
   },
   "file_extension": ".py",
   "mimetype": "text/x-python",
   "name": "python",
   "nbconvert_exporter": "python",
   "pygments_lexer": "ipython3",
   "version": "3.8.8"
  }
 },
 "nbformat": 4,
 "nbformat_minor": 5
}
